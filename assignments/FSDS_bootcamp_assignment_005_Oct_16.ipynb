{
 "cells": [
  {
   "cell_type": "markdown",
   "metadata": {
    "id": "n3FuI-mutNl6"
   },
   "source": [
    "# List, Tuple and Sets"
   ]
  },
  {
   "cell_type": "markdown",
   "metadata": {
    "id": "hZcGNSR2y9zW"
   },
   "source": [
    "#### 1. On amazon website we have the following available items - \n",
    "\n",
    "```python\n",
    "amazon_website = [(\"watch\", 5000), (\"phone\", 10000), (\"laptop\", 50000), (\"shirt\", 1000)]\n",
    "```\n",
    "Take the user input N no. of times and find out the total cost to be paid?\n",
    "\n",
    "OR\n",
    "\n",
    "You can ask the user quntity or the count of item?\n",
    "\n",
    "if the item is not present in the amazon website then print that item as out of stock and do add it total\n",
    "\n",
    "\n",
    "HINT: while, for loop.. indexing"
   ]
  },
  {
   "cell_type": "code",
   "execution_count": 1,
   "metadata": {},
   "outputs": [
    {
     "name": "stdout",
     "output_type": "stream",
     "text": [
      "['watch', 'phone', 'laptop', 'shirt']\n",
      "enter your item you are looking for: watch\n",
      "enter your item you are looking for: phone\n",
      "enter your item you are looking for: laptop\n",
      "enter your item you are looking for: pant\n",
      "item is out of stock, please continue the shopping\n",
      "total cost to be paid is:  65000\n"
     ]
    }
   ],
   "source": [
    "amazon_website = [(\"watch\", 5000), (\"phone\", 10000), (\"laptop\", 50000), (\"shirt\", 1000)]\n",
    "res = 0\n",
    "cart = []\n",
    "avail_items = [t[0] for t in amazon_website]\n",
    "print(avail_items)\n",
    "for _ in range(len(amazon_website)):\n",
    "    usr_input = input('enter your item you are looking for: ')\n",
    "    if usr_input in avail_items:\n",
    "        cart.append(usr_input)\n",
    "    else:\n",
    "        print('item is out of stock, please continue the shopping')\n",
    "for item in cart:\n",
    "    for prd in amazon_website:\n",
    "        if item == prd[0]:\n",
    "            res += prd[-1]\n",
    "print(\"total cost to be paid is: \", res)"
   ]
  },
  {
   "cell_type": "markdown",
   "metadata": {
    "id": "FQrKC2gzzsUm"
   },
   "source": [
    "#### 2. What will be the output of the following code snippet?\n",
    "\n",
    "```\n",
    "arr = [1, 2, 3, 4, 5, 6]\n",
    "for i in range(1, 6):\n",
    "    arr[i - 1] = arr[i]\n",
    "for i in range(0, 6): \n",
    "    print(arr[i], end = \" \")\n",
    "```"
   ]
  },
  {
   "cell_type": "code",
   "execution_count": 2,
   "metadata": {},
   "outputs": [
    {
     "data": {
      "text/plain": [
       "'\\n    In the above code, the arr values are getting replaced with previous index to current\\n'"
      ]
     },
     "execution_count": 2,
     "metadata": {},
     "output_type": "execute_result"
    }
   ],
   "source": [
    "\"\"\"\n",
    "    In the above code, the arr values are getting replaced with previous index to current, 0/p = 2 3 4 5 6 6 \n",
    "\"\"\"\n",
    "#output: 2 3 4 5 6 6 "
   ]
  },
  {
   "cell_type": "markdown",
   "metadata": {
    "id": "nL_DZJFS0ZZF"
   },
   "source": [
    "#### 3. Write a Python program to find the repeated items of a tuple."
   ]
  },
  {
   "cell_type": "code",
   "execution_count": 3,
   "metadata": {},
   "outputs": [
    {
     "name": "stdout",
     "output_type": "stream",
     "text": [
      "10  isn't repeated\n",
      "5  isn't repeated\n",
      "repeaed items in the tuple  {1, 2, 3, 4, 6, 7}\n",
      "\n",
      " Counter({3: 3, 1: 2, 2: 2, 4: 2, 6: 2, 7: 2, 10: 1, 5: 1})\n"
     ]
    }
   ],
   "source": [
    "t = (1,2,3,4,3,1,10,2,4,6,3,7,6,7,5)\n",
    "res = set()\n",
    "for i in t:\n",
    "    if t.count(i) > 1:\n",
    "        res.add(i)\n",
    "    else:\n",
    "        print(i, ' isn\\'t repeated')\n",
    "        \n",
    "print('repeaed items in the tuple ', res)\n",
    "\n",
    "# or \n",
    "from collections import Counter\n",
    "print('\\n',Counter(t)) #counter funciton results, how many times it's duplicated."
   ]
  },
  {
   "cell_type": "markdown",
   "metadata": {
    "id": "ne8WpLZZ1GSm"
   },
   "source": [
    "### 4. Replace last value of tuples in a list with 500. Try using list comprehension\n",
    "\n",
    "Example -: \n",
    "```\n",
    "Input -:\n",
    "\n",
    "[(10, 20, 40), (40, 50, 60), (70, 80, 90)]\n",
    "\n",
    "Output -:\n",
    "[(10, 20, 500), (40, 50, 500), (70, 80, 500)]\n",
    "\n",
    "\n",
    "```\n"
   ]
  },
  {
   "cell_type": "code",
   "execution_count": 4,
   "metadata": {
    "id": "YpvH9Di21z-O"
   },
   "outputs": [
    {
     "name": "stdout",
     "output_type": "stream",
     "text": [
      "(10, 20, 300)\n",
      "(40, 50, 300)\n",
      "(70, 80, 300)\n"
     ]
    }
   ],
   "source": [
    "l = [(10, 20, 40), (40, 50, 60), (70, 80, 90)]\n",
    "for t in l:\n",
    "    print(t[:-1]+(300,))"
   ]
  },
  {
   "cell_type": "code",
   "execution_count": null,
   "metadata": {},
   "outputs": [],
   "source": []
  }
 ],
 "metadata": {
  "colab": {
   "collapsed_sections": [],
   "provenance": []
  },
  "kernelspec": {
   "display_name": "Python 3 (ipykernel)",
   "language": "python",
   "name": "python3"
  },
  "language_info": {
   "codemirror_mode": {
    "name": "ipython",
    "version": 3
   },
   "file_extension": ".py",
   "mimetype": "text/x-python",
   "name": "python",
   "nbconvert_exporter": "python",
   "pygments_lexer": "ipython3",
   "version": "3.9.12"
  }
 },
 "nbformat": 4,
 "nbformat_minor": 1
}
