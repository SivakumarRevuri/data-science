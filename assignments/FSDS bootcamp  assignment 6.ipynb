{
 "cells": [
  {
   "cell_type": "markdown",
   "id": "8ad8d0da",
   "metadata": {},
   "source": [
    "1. write a function which will try to find out len of a string without using an inbuilt len function \n",
    "2. write a function which  will be able to print an index of list element without using an index function\n",
    "3. write a function which will be able to print an ip address of your system\n",
    "4. write a function which will shutdown your system\n",
    "5. write a function which will take input as a list with any kind of numeric value and give an out as a multiplication of \n",
    "all the numeric data l = [3.5, 6.56, 4,5,\"sudh\" , \"ineuron\" , 'fsda bootcamp 2.0']\n",
    "6. write a function which will be able to read all the mails \n",
    "7 . write a function which will be able to send a mail to anyone \n",
    "8. write a function which will be able to read a doc/word file from your system \n",
    "\n",
    "you are suppose to complete this by oct 30th before your \n",
    "live class and you have to send a solution at mail id - query@ineuron.ai\n",
    "submit your git link to mail "
   ]
  },
  {
   "cell_type": "code",
   "execution_count": null,
   "id": "7116b130",
   "metadata": {},
   "outputs": [],
   "source": []
  },
  {
   "cell_type": "code",
   "execution_count": 2,
   "id": "8fcf375a",
   "metadata": {},
   "outputs": [
    {
     "name": "stdout",
     "output_type": "stream",
     "text": [
      "26\n"
     ]
    }
   ],
   "source": [
    "#write a function which will try to find out len of a string without using an inbuilt len function\n",
    "name = 'ABCDEFGHIJKLMNOPQRSTUVWXYZ'\n",
    "length = 0\n",
    "for _ in name:\n",
    "    length += 1\n",
    "print(length)"
   ]
  },
  {
   "cell_type": "code",
   "execution_count": 3,
   "id": "5c44672b",
   "metadata": {},
   "outputs": [
    {
     "name": "stdout",
     "output_type": "stream",
     "text": [
      "apple  index is:  0\n",
      "banana  index is:  1\n",
      "gava  index is:  2\n",
      "pineapple  index is:  3\n",
      "papaya  index is:  4\n"
     ]
    }
   ],
   "source": [
    "#write a function which will be able to print an index of list element without using an index function\n",
    "fruits_lst = ['apple', 'banana', 'gava', 'pineapple', 'papaya']\n",
    "for i in range(len(fruits_lst)):\n",
    "    print(fruits_lst[i], ' index is: ', i)"
   ]
  },
  {
   "cell_type": "code",
   "execution_count": 6,
   "id": "38650f2a",
   "metadata": {},
   "outputs": [
    {
     "name": "stdout",
     "output_type": "stream",
     "text": [
      "192.168.248.163\n"
     ]
    }
   ],
   "source": [
    "#write a function which will be able to print an ip address of your system\n",
    "import socket\n",
    "hostname = socket.gethostname()\n",
    "ip = socket.gethostbyname(hostname)\n",
    "print(ip)"
   ]
  },
  {
   "cell_type": "code",
   "execution_count": null,
   "id": "87a7ac82",
   "metadata": {},
   "outputs": [],
   "source": [
    "#write a function which will shutdown your system\n",
    "import os\n",
    "# os.system('shutdown -s -t 0') #execute shutdown -s -t 0"
   ]
  },
  {
   "cell_type": "code",
   "execution_count": 5,
   "id": "50305d6b",
   "metadata": {},
   "outputs": [
    {
     "name": "stdout",
     "output_type": "stream",
     "text": [
      "enter the list: [3.5, 6.56, 4,5,\"sudh\" , \"ineuron\" , 'fsda bootcamp 2.0']\n",
      "<class 'list'>\n",
      "459.19999999999993\n"
     ]
    }
   ],
   "source": [
    "#write a function which will take input as a list with any kind of numeric value and give an out as a multiplication \n",
    "# of all the numeric data l = [3.5, 6.56, 4,5,\"sudh\" , \"ineuron\" , 'fsda bootcamp 2.0']\n",
    "usr_input = eval(input('enter the list: '))\n",
    "print(type(usr_input))\n",
    "res = 1\n",
    "for i in usr_input:\n",
    "    if isinstance(i, int) or isinstance(i, float):\n",
    "        res *= i\n",
    "print(res)"
   ]
  },
  {
   "cell_type": "code",
   "execution_count": null,
   "id": "967cc15f",
   "metadata": {},
   "outputs": [],
   "source": [
    "#write a function which will be able to read all the mails \n",
    "import email"
   ]
  },
  {
   "cell_type": "code",
   "execution_count": null,
   "id": "2c96db9a",
   "metadata": {},
   "outputs": [],
   "source": [
    "# write a function which will be able to send a mail to anyone"
   ]
  },
  {
   "cell_type": "code",
   "execution_count": null,
   "id": "efe5ca8b",
   "metadata": {},
   "outputs": [],
   "source": [
    "#write a function which will be able to read a doc/word file from your system\n",
    "import docx2txt as d\n",
    "\n",
    "text = d.process(r'C:\\Users\\skumar\\Desktop\\python-modules\\doc2txt\\word-file.docx')\n",
    "print(text)"
   ]
  }
 ],
 "metadata": {
  "kernelspec": {
   "display_name": "Python 3 (ipykernel)",
   "language": "python",
   "name": "python3"
  },
  "language_info": {
   "codemirror_mode": {
    "name": "ipython",
    "version": 3
   },
   "file_extension": ".py",
   "mimetype": "text/x-python",
   "name": "python",
   "nbconvert_exporter": "python",
   "pygments_lexer": "ipython3",
   "version": "3.9.12"
  }
 },
 "nbformat": 4,
 "nbformat_minor": 5
}
